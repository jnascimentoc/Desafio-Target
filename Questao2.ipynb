{
  "nbformat": 4,
  "nbformat_minor": 0,
  "metadata": {
    "colab": {
      "provenance": []
    },
    "kernelspec": {
      "name": "python3",
      "display_name": "Python 3"
    },
    "language_info": {
      "name": "python"
    }
  },
  "cells": [
    {
      "cell_type": "code",
      "execution_count": null,
      "metadata": {
        "id": "JelgwK2AvUg9"
      },
      "outputs": [],
      "source": [
        "def fib():\n",
        "    sequencia_fibonacci = [0, 1]\n",
        "    while True:\n",
        "        prox_valor = sequencia_fibonacci[-1] + sequencia_fibonacci[-2]\n",
        "        sequencia_fibonacci.append(prox_valor)\n",
        "        yield prox_valor\n",
        "\n",
        "def verificador():\n",
        "    fibonacci_gen = fib()\n",
        "    sequencia_fibonacci = [0, 1]\n",
        "\n",
        "    while True:\n",
        "        num = int(input(\"Digite um número para verificar se está na sequência de Fibonacci: \"))\n",
        "        print(\"------------------------------------------------------------------\")\n",
        "\n",
        "        # Expandir a sequência até que o número seja maior que o último da lista\n",
        "        while sequencia_fibonacci[-1] < num:\n",
        "            prox_valor = next(fibonacci_gen)\n",
        "            sequencia_fibonacci.append(prox_valor)\n",
        "\n",
        "        if num in sequencia_fibonacci:\n",
        "            print(f\"Resposta: ✅ O número {num} ESTÁ na sequência de Fibonacci.\")\n",
        "        else:\n",
        "            print(f\"Resposta: ❌ O número {num} NÃO está na sequência de Fibonacci.\")\n",
        "        print(\"------------------------------------------------------------------\")\n",
        "        continuar = input(\"Deseja verificar outro número? (s/n): \").lower()\n",
        "        if continuar != 's':\n",
        "            print(\"☑️ Fim do programa.\")\n",
        "            break\n",
        "\n",
        "verificador()"
      ]
    }
  ]
}