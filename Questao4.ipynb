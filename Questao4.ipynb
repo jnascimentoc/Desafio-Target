{
  "nbformat": 4,
  "nbformat_minor": 0,
  "metadata": {
    "colab": {
      "provenance": []
    },
    "kernelspec": {
      "name": "python3",
      "display_name": "Python 3"
    },
    "language_info": {
      "name": "python"
    }
  },
  "cells": [
    {
      "cell_type": "code",
      "execution_count": null,
      "metadata": {
        "id": "kMSwQCcuvaVX"
      },
      "outputs": [],
      "source": [
        "faturamento = {\n",
        "    'SP': 67836.43,\n",
        "    'RJ': 36678.66,\n",
        "    'MG': 29229.88,\n",
        "    'ES': 27165.48,\n",
        "    'Outros': 19849.53\n",
        "}\n",
        "for estado, valor in faturamento.items():\n",
        "    print(f\"{estado}: R$ {valor:.2f}\")\n",
        "\n",
        "# Análises\n",
        "total_faturamento = sum(faturamento.values())\n",
        "media_faturamento = total_faturamento / len(faturamento)\n",
        "\n",
        "print(f\"\\nTotal de faturamento: R$ {total_faturamento:.2f}\")\n",
        "print(f\"Média de faturamento por estado: R$ {media_faturamento:.2f}\")\n",
        "\n",
        "#Representação de total\n",
        "print() #Pula linha\n",
        "for estado, valor in faturamento.items():\n",
        "    percentual = (valor / total_faturamento) * 100\n",
        "    print(f\"{estado} : {percentual:.2f}%\")"
      ]
    }
  ]
}