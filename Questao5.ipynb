{
  "nbformat": 4,
  "nbformat_minor": 0,
  "metadata": {
    "colab": {
      "provenance": []
    },
    "kernelspec": {
      "name": "python3",
      "display_name": "Python 3"
    },
    "language_info": {
      "name": "python"
    }
  },
  "cells": [
    {
      "cell_type": "code",
      "execution_count": null,
      "metadata": {
        "id": "FtMnYBbwviuP"
      },
      "outputs": [],
      "source": [
        "def inverte_string():\n",
        "    palavra = palavra_digitada\n",
        "    palavra_invertida = {palavra_digitada[::-1]}\n",
        "    print(f'A palavra invertida é: {palavra_invertida}')\n",
        "\n",
        "palavra_digitada = input(\"Digite uma palavra: \")\n",
        "print(f'A palavra digitada foi: {palavra_digitada}')\n",
        "inverte_string()\n"
      ]
    }
  ]
}