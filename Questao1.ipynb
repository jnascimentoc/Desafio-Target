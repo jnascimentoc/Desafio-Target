{
  "nbformat": 4,
  "nbformat_minor": 0,
  "metadata": {
    "colab": {
      "provenance": []
    },
    "kernelspec": {
      "name": "python3",
      "display_name": "Python 3"
    },
    "language_info": {
      "name": "python"
    }
  },
  "cells": [
    {
      "cell_type": "code",
      "execution_count": null,
      "metadata": {
        "id": "aKZ8Ms0Tu46X"
      },
      "outputs": [],
      "source": [
        "indice = 13\n",
        "soma = 0\n",
        "k = 0\n",
        "\n",
        "while k < indice:\n",
        "    k = k + 1\n",
        "    soma = soma + k\n",
        "\n",
        "print(f\"O valor da variável SOMA é: {soma} \")\n",
        "#Resposta: 91"
      ]
    }
  ]
}